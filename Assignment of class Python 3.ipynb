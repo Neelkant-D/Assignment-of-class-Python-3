{
 "cells": [
  {
   "cell_type": "markdown",
   "metadata": {},
   "source": [
    "Q1.1 Write a Python Program to implement your own myreduce() function which works exactly\n",
    "like Python's built-in function reduce()"
   ]
  },
  {
   "cell_type": "code",
   "execution_count": 9,
   "metadata": {},
   "outputs": [],
   "source": [
    "def myreduce(InputFunction,lstInputRange):\n",
    "    n1 = lstInputRange[0]\n",
    "    n2 = lstInputRange[1]\n",
    "    x = InputFunction(n1,n2)\n",
    "    n1=x\n",
    "    count=0\n",
    "    for i in lstInputRange:\n",
    "        count=count+1  \n",
    "        if count > 2:            \n",
    "            n2 = i\n",
    "            x = InputFunction(n1,n2)\n",
    "            n1=x           \n",
    "    return x\n",
    "\n",
    "# Defining the Input Functions\n",
    "def func_Add(num1,num2):\n",
    "    return num1+num2\n",
    "\n",
    "def func_Sub(num1,num2):\n",
    "    return num1-num2\n",
    "\n",
    "def func_Prod(num1,num2):\n",
    "    return num1*num2\n",
    "\n",
    "  \n",
    "\n",
    "\n",
    "        \n",
    "        \n",
    "\n",
    "  \n"
   ]
  },
  {
   "cell_type": "code",
   "execution_count": 11,
   "metadata": {},
   "outputs": [
    {
     "name": "stdout",
     "output_type": "stream",
     "text": [
      "Addition of the nos in the list: 190\n",
      "sub of the nos in the list: -188\n",
      " Prod of the nos iin the list: 121645100408832000\n"
     ]
    }
   ],
   "source": [
    "# Calling the function - myreduce\n",
    "lstInputRange =range(1,20)\n",
    "print (\"Addition of the nos in the list:\",myreduce(func_Add,lstInputRange))\n",
    "print (\"sub of the nos in the list:\",myreduce(func_Sub,lstInputRange))\n",
    "print (\" Prod of the nos iin the list:\", myreduce(func_Prod, lstInputRange))\n"
   ]
  },
  {
   "cell_type": "markdown",
   "metadata": {},
   "source": [
    "Q1.2 Write a Python program to implement your own myfilter() function which works exactly like\n",
    "Python's built-in function filter()"
   ]
  },
  {
   "cell_type": "code",
   "execution_count": 12,
   "metadata": {},
   "outputs": [],
   "source": [
    "def myfilter(incidentFunction,lstInputRange):    \n",
    "    lstOutput=[]\n",
    "    for item in lstInputRange:\n",
    "        if incidentFunction(item)==True:\n",
    "            lstOutput.append(item)\n",
    "    return lstOutput\n",
    "\n",
    "#Incident Check Functions\n",
    "def IsEven(intInput):\n",
    "    if intInput%2==0:\n",
    "        return True\n",
    "\n",
    "def IsOdd(intInput):\n",
    "    if intInput%2!=0:\n",
    "        return True\n",
    "\n",
    "def IsPerfectSquare(intInput):\n",
    "    intTemp = int(pow(intInput, 1/2))\n",
    "    intTemp = pow(intTemp, 2)\n",
    "    if intTemp==intInput:\n",
    "        return True\n",
    "  \n",
    "\n"
   ]
  },
  {
   "cell_type": "code",
   "execution_count": 32,
   "metadata": {},
   "outputs": [
    {
     "name": "stdout",
     "output_type": "stream",
     "text": [
      "Input Range: \n",
      "\t range(0, 50)\n",
      "\n",
      "Even Number from Range: \n",
      "\t [0, 2, 4, 6, 8, 10, 12, 14, 16, 18, 20, 22, 24, 26, 28, 30, 32, 34, 36, 38, 40, 42, 44, 46, 48]\n",
      "\n",
      "Odd Number from Range: \n",
      "\t [1, 3, 5, 7, 9, 11, 13, 15, 17, 19, 21, 23, 25, 27, 29, 31, 33, 35, 37, 39, 41, 43, 45, 47, 49]\n",
      "\n",
      "Perfect Square Number from Range: \n",
      "\t [0, 1, 4, 9, 16, 25, 36, 49]\n"
     ]
    }
   ],
   "source": [
    "# Calling the Function - myfilter\n",
    "lstInputRange = range(0, 50)        \n",
    "print('Input Range: \\n\\t',lstInputRange)\n",
    "print('\\nEven Number from Range: \\n\\t', myfilter(IsEven,lstInputRange))\n",
    "print('\\nOdd Number from Range: \\n\\t', myfilter(IsOdd,lstInputRange))\n",
    "print('\\nPerfect Square Number from Range: \\n\\t', myfilter(IsPerfectSquare,lstInputRange))  "
   ]
  },
  {
   "cell_type": "markdown",
   "metadata": {},
   "source": [
    "Q2Implement List comprehensions to produce the following lists.\n",
    "Write List comprehensions to produce the following Lists\n",
    "['A', 'C', 'A', 'D', 'G', 'I', ’L’, ‘ D’]\n",
    "['x', 'xx', 'xxx', 'xxxx', 'y', 'yy', 'yyy', 'yyyy', 'z', 'zz', 'zzz', 'zzzz']\n",
    "['x', 'y', 'z', 'xx', 'yy', 'zz', 'xx', 'yy', 'zz', 'xxxx', 'yyyy', 'zzzz']\n",
    "[[2], [3], [4], [3], [4], [5], [4], [5], [6]]\n",
    "[[2, 3, 4, 5], [3, 4, 5, 6], [4, 5, 6, 7], [5, 6, 7, 8]]\n",
    "[(1, 1), (2, 1), (3, 1), (1, 2), (2, 2), (3, 2), (1, 3), (2, 3), (3, 3)]"
   ]
  },
  {
   "cell_type": "code",
   "execution_count": 61,
   "metadata": {},
   "outputs": [
    {
     "name": "stdout",
     "output_type": "stream",
     "text": [
      "\n",
      "List 1\n",
      "['A', 'C', 'A', 'D', 'G', 'I', 'L', 'D']\n",
      "\n",
      "List 2\n",
      "['x', 'xx', 'xxx', 'xxxx', 'y', 'yy', 'yyy', 'yyyy', 'z', 'zz', 'zzz', 'zzzz']\n",
      "\n",
      "List 3\n",
      "['x', 'y', 'z', 'xx', 'yy', 'zz', 'xx', 'yy', 'zz', 'xxxx', 'yyyy', 'zzzz']\n",
      "\n",
      "List 4\n",
      "[[2], [3], [4], [3], [4], [5], [4], [5], [6]]\n",
      "\n",
      "List 5\n",
      "[[2, 3, 4, 5], [3, 4, 5, 6], [4, 5, 6, 7], [5, 6, 7, 8]]\n",
      "\n",
      "List 6\n",
      "[(1, 1), (2, 1), (3, 1), (1, 2), (2, 2), (3, 2), (1, 3), (2, 3), (3, 3)]\n"
     ]
    }
   ],
   "source": [
    "# program for ['A', 'C', 'A', 'D', 'G', 'I', ’L’, ‘ D’]\n",
    "\n",
    "print('\\nList 1')\n",
    "Input = 'ACADGILD'\n",
    "Output=[Letter for Letter in Input]\n",
    "print(Output)\n",
    "\n",
    "\n",
    "# program for['x', 'xx', 'xxx', 'xxxx', 'y', 'yy', 'yyy', 'yyyy', 'z', 'zz', 'zzz', 'zzzz']\n",
    "\n",
    "print('\\nList 2')\n",
    "Input = 'x,xx,xxx,xxxx,y,yy,yyy,yyyy,z,zz,zzz,zzzz'\n",
    "Output=[Letter for Letter in Input.split(',')]\n",
    "print(Output)\n",
    "\n",
    "\n",
    "## program for['x', 'y', 'z', 'xx', 'yy', 'zz', 'xx', 'yy', 'zz', 'xxxx', 'yyyy', 'zzzz']\n",
    "\n",
    "print('\\nList 3')\n",
    "Input = 'x,y,z,xx,yy,zz,xx,yy,zz,xxxx,yyyy,zzzz'\n",
    "Output= [Letter for Letter in Input.split(',')]\n",
    "print(Output)\n",
    "\n",
    "## program for [[2], [3], [4], [3], [4], [5], [4], [5], [6]]\n",
    "\n",
    "print('\\nList 4')\n",
    "\n",
    "Input = '234345456'  # converted to string\n",
    "\n",
    "Output = [[int(Letter)] for Letter in Input]\n",
    "\n",
    "print (Output)\n",
    "\n",
    "## program for [[2, 3, 4, 5], [3, 4, 5, 6], [4, 5, 6, 7], [5, 6, 7, 8]]\n",
    "\n",
    "print('\\nList 5')\n",
    "Input = [list(range(2,6)),list(range(3,7)),list(range(4,8)),list(range(5,9))]    \n",
    "\n",
    "\n",
    "Output = [Letter for Letter in Input]\n",
    "print (Output)\n",
    "\n",
    "\n",
    "##Program for[(1, 1), (2, 1), (3, 1), (1, 2), (2, 2), (3, 2), (1, 3), (2, 3), (3, 3)]\n",
    "\n",
    "print('\\nList 6')\n",
    "\n",
    "Input = [(1, 1), (2, 1), (3, 1), (1, 2), (2, 2), (3, 2), (1, 3), (2, 3), (3, 3)]\n",
    "Output = [letter for letter in Input]\n",
    "print (Output)"
   ]
  },
  {
   "cell_type": "markdown",
   "metadata": {},
   "source": [
    "Q3. Implement a function longestWord() that takes a list of words and returns the longest one."
   ]
  },
  {
   "cell_type": "code",
   "execution_count": 15,
   "metadata": {},
   "outputs": [],
   "source": [
    "def longest_Word(list_Word):    \n",
    "    longst_Word = ''    \n",
    "    for word in list_Word:        \n",
    "        if len(longst_Word)<len(word):\n",
    "            longst_Word=word\n",
    "    \n",
    "    print(\"Longest word in the list is:\",longst_Word )\n",
    "    \n",
    "  "
   ]
  },
  {
   "cell_type": "code",
   "execution_count": 16,
   "metadata": {},
   "outputs": [
    {
     "name": "stdout",
     "output_type": "stream",
     "text": [
      "Longest word in the list is: Dharmendra\n"
     ]
    }
   ],
   "source": [
    "lst_Word= ['Dharmendra', 'Sunny', 'Boby' ]\n",
    "longest_Word(lst_Word)"
   ]
  }
 ],
 "metadata": {
  "kernelspec": {
   "display_name": "Python 3",
   "language": "python",
   "name": "python3"
  },
  "language_info": {
   "codemirror_mode": {
    "name": "ipython",
    "version": 3
   },
   "file_extension": ".py",
   "mimetype": "text/x-python",
   "name": "python",
   "nbconvert_exporter": "python",
   "pygments_lexer": "ipython3",
   "version": "3.6.5"
  }
 },
 "nbformat": 4,
 "nbformat_minor": 2
}
